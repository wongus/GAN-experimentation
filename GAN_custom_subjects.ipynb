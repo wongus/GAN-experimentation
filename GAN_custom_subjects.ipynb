{
  "cells": [
    {
      "cell_type": "markdown",
      "metadata": {
        "id": "view-in-github",
        "colab_type": "text"
      },
      "source": [
        "<a href=\"https://colab.research.google.com/github/wongus/GAN-experimentation/blob/main/GAN_custom_subjects.ipynb\" target=\"_parent\"><img src=\"https://colab.research.google.com/assets/colab-badge.svg\" alt=\"Open In Colab\"/></a>"
      ]
    },
    {
      "cell_type": "markdown",
      "source": [
        "## Upload multiple images and train the model (takes ~25 min.)\n",
        "Run this cell once to intialise model setup and training, upload images and enter the key."
      ],
      "metadata": {
        "id": "bAu02nQuhPNv"
      }
    },
    {
      "cell_type": "code",
      "execution_count": null,
      "metadata": {
        "cellView": "form",
        "id": "32gYIDDR1aCp"
      },
      "outputs": [],
      "source": [
        "#@title\n",
        "\n",
        "import os\n",
        "from google.colab import files\n",
        "import shutil\n",
        "from IPython.display import clear_output\n",
        "import json\n",
        "import ipywidgets as widgets\n",
        "from natsort import natsorted\n",
        "from glob import glob\n",
        "import torch\n",
        "from torch import autocast\n",
        "from IPython.display import display\n",
        "\n",
        "concepts_list = [\n",
        "    {\n",
        "        \"instance_prompt\":      \"T*\",\n",
        "        \"class_prompt\":         \"person\",\n",
        "        \"instance_data_dir\":    \"/content/data/T*\",\n",
        "        \"class_data_dir\":       \"/content/data/person\"\n",
        "    }\n",
        "]\n",
        "\n",
        "for c in concepts_list:\n",
        "    os.makedirs(c[\"instance_data_dir\"], exist_ok=True)\n",
        "\n",
        "with open(\"concepts_list.json\", \"w\") as f:\n",
        "    json.dump(concepts_list, f, indent=4)\n",
        "\n",
        "for c in concepts_list:\n",
        "  print(f\"Uploading instance images for `{c['instance_prompt']}`\")\n",
        "  uploaded = files.upload()\n",
        "  for filename in uploaded.keys():\n",
        "    dst_path = os.path.join(c['instance_data_dir'], filename)\n",
        "    shutil.move(filename, dst_path)\n",
        "\n",
        "clear_output(wait=True)\n",
        "\n",
        "from getpass import getpass\n",
        "print('Key:')\n",
        "key = getpass()\n",
        "clear_output(wait=True)\n",
        "\n",
        "!wget -q https://github.com/ShivamShrirao/diffusers/raw/main/examples/dreambooth/train_dreambooth.py\n",
        "!wget -q https://github.com/ShivamShrirao/diffusers/raw/main/scripts/convert_diffusers_to_original_stable_diffusion.py\n",
        "%pip install -qq git+https://github.com/ShivamShrirao/diffusers --quiet\n",
        "%pip install -q -U --pre triton --quiet\n",
        "%pip install -q accelerate transformers ftfy bitsandbytes==0.35.0 gradio natsort --quiet\n",
        "%pip install --no-deps -q https://github.com/brian6091/xformers-wheels/releases/download/0.0.15.dev0%2B4c06c79/xformers-0.0.15.dev0+4c06c79.d20221205-cp38-cp38-linux_x86_64.whl --quiet\n",
        "\n",
        "from diffusers import StableDiffusionPipeline, DDIMScheduler\n",
        "\n",
        "!mkdir -p ~/.huggingface\n",
        "!echo -n f'{key}' > ~/.huggingface/token\n",
        "\n",
        "clear_output(wait=True)\n",
        "\n",
        "save_to_gdrive = False\n",
        "\n",
        "MODEL_NAME = \"runwayml/stable-diffusion-v1-5\"\n",
        "OUTPUT_DIR = \"/content/stable_diffusion_weights/T*\"\n",
        "\n",
        "!mkdir -p $OUTPUT_DIR\n",
        "\n",
        "out = widgets.Output(\n",
        "  layout=widgets.Layout(height='200px', overflow='scroll')\n",
        ")\n",
        "\n",
        "display(out)\n",
        "\n",
        "with out:\n",
        "  !accelerate launch train_dreambooth.py \\\n",
        "    --pretrained_model_name_or_path=$MODEL_NAME \\\n",
        "    --pretrained_vae_name_or_path=\"stabilityai/sd-vae-ft-mse\" \\\n",
        "    --output_dir=$OUTPUT_DIR \\\n",
        "    --revision=\"fp16\" \\\n",
        "    --with_prior_preservation --prior_loss_weight=1.0 \\\n",
        "    --seed=1337 \\\n",
        "    --resolution=512 \\\n",
        "    --train_batch_size=1 \\\n",
        "    --train_text_encoder \\\n",
        "    --mixed_precision=\"fp16\" \\\n",
        "    --use_8bit_adam \\\n",
        "    --gradient_accumulation_steps=1 \\\n",
        "    --learning_rate=1e-6 \\\n",
        "    --lr_scheduler=\"constant\" \\\n",
        "    --lr_warmup_steps=0 \\\n",
        "    --num_class_images=50 \\\n",
        "    --sample_batch_size=4 \\\n",
        "    --max_train_steps=800 \\\n",
        "    --save_interval=10000 \\\n",
        "    --save_sample_prompt=\"T*\" \\\n",
        "    --concepts_list=\"concepts_list.json\"\n",
        "\n",
        "  clear_output(wait=True)\n",
        "\n",
        "WEIGHTS_DIR = natsorted(glob(OUTPUT_DIR + os.sep + \"*\"))[-1]\n",
        "\n",
        "model_path = WEIGHTS_DIR\n",
        "\n",
        "scheduler = DDIMScheduler(beta_start=0.00085, beta_end=0.012, beta_schedule=\"scaled_linear\", clip_sample=False, set_alpha_to_one=False)\n",
        "pipe = StableDiffusionPipeline.from_pretrained(model_path, scheduler=scheduler, safety_checker=None, torch_dtype=torch.float16).to(\"cuda\")\n",
        "\n",
        "g_cuda = None\n",
        "\n",
        "clear_output(wait=True)\n",
        "print('Done, proceed to image generation.')"
      ]
    },
    {
      "cell_type": "markdown",
      "source": [
        "## Image generation (use T* to specify the subject of the uploaded photos)\n",
        "This cell can be run multiple times with either the same- or different prompts. Results should vary each time."
      ],
      "metadata": {
        "id": "qXtpqetSguzC"
      }
    },
    {
      "cell_type": "code",
      "execution_count": null,
      "metadata": {
        "cellView": "form",
        "id": "K6xoHWSsbcS3",
        "scrolled": false
      },
      "outputs": [],
      "source": [
        "g_cuda = torch.Generator(device='cuda')\n",
        "\n",
        "prompt = \"high definition picture of T*\" #@param {type:\"string\"}\n",
        "negative_prompt = \"\" #@param {type:\"string\"}\n",
        "num_samples = 5 #@param {type:\"number\"}\n",
        "guidance_scale = 7.5 #@param {type:\"number\"}\n",
        "num_inference_steps = 50 #@param {type:\"number\"}\n",
        "seed = 0 #@param {type:\"number\"}\n",
        "height = 512 #@param {type:\"number\"}\n",
        "width = 512 #@param {type:\"number\"}\n",
        "\n",
        "g_cuda.manual_seed(seed)\n",
        "\n",
        "with autocast(\"cuda\"), torch.inference_mode():\n",
        "    images = pipe(\n",
        "        prompt,\n",
        "        height=height,\n",
        "        width=width,\n",
        "        negative_prompt=negative_prompt,\n",
        "        num_images_per_prompt=num_samples,\n",
        "        num_inference_steps=num_inference_steps,\n",
        "        guidance_scale=guidance_scale,\n",
        "        generator=g_cuda\n",
        "    ).images\n",
        "\n",
        "for img in images:\n",
        "    display(img)"
      ]
    }
  ],
  "metadata": {
    "accelerator": "GPU",
    "colab": {
      "provenance": [],
      "include_colab_link": true
    },
    "kernelspec": {
      "display_name": "Python 3 (ipykernel)",
      "language": "python",
      "name": "python3"
    },
    "language_info": {
      "codemirror_mode": {
        "name": "ipython",
        "version": 3
      },
      "file_extension": ".py",
      "mimetype": "text/x-python",
      "name": "python",
      "nbconvert_exporter": "python",
      "pygments_lexer": "ipython3",
      "version": "3.10.9"
    },
    "vscode": {
      "interpreter": {
        "hash": "e7370f93d1d0cde622a1f8e1c04877d8463912d04d973331ad4851f04de6915a"
      }
    },
    "gpuClass": "standard"
  },
  "nbformat": 4,
  "nbformat_minor": 0
}